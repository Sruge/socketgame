{
 "cells": [
  {
   "cell_type": "code",
   "execution_count": 2,
   "metadata": {},
   "outputs": [
    {
     "name": "stdout",
     "output_type": "stream",
     "text": [
      "pygame 2.0.0 (SDL 2.0.12, python 3.8.6)\n",
      "Hello from the pygame community. https://www.pygame.org/contribute.html\n"
     ]
    }
   ],
   "source": [
    "import pygame\n",
    "import json"
   ]
  },
  {
   "cell_type": "code",
   "execution_count": 3,
   "metadata": {},
   "outputs": [],
   "source": [
    "class Player:\n",
    "    def __init__(self, id, x, y):\n",
    "        self.x = x\n",
    "        self.y = y\n",
    "        self.destination_x = x\n",
    "        self.destination_y = y\n",
    "        self.vel_x = 2\n",
    "        self.vel_y = 2\n",
    "        self.id = id\n",
    "        self.rect = pygame.Rect((x,y),(32,48))\n",
    "        \n",
    "    def move(self, time):\n",
    "        self.x = self.x + (self.vel_x * time)\n",
    "        self.y = self.y + (self.vel_y * time)\n",
    "        if ((self.vel_x > 0 and self.x > self.destination_x) or (self.vel_x < 0 and self.x < self.destination_x)):\n",
    "            self.vel_x = 0\n",
    "        if ((self.vel_y > 0 and self.y > self.destination_y) or (self.vel_y < 0 and self.y < self.destination_y)):\n",
    "            self.vel_y = 0\n",
    "            \n",
    "    def set_destination(self, x ,y):\n",
    "        self.destination_x = x\n",
    "        self.destination_y = y\n",
    "        dx = (self.destination_x - self.x)\n",
    "        dy = (self.destination_y - self.y)\n",
    "        self.vel_x = dx / (abs(dx) + abs(dy))\n",
    "        self.vel_y = dy / (abs(dx) + abs(dy))\n",
    "        \n",
    "    def toJson(self):\n",
    "        return {\"id\":self.id,\"x\":self.x, \"y\":self.y}"
   ]
  },
  {
   "cell_type": "code",
   "execution_count": 35,
   "metadata": {},
   "outputs": [],
   "source": [
    "class Game:\n",
    "    def __init__(self):\n",
    "        self.successes, self.failures = pygame.init()\n",
    "        self.clock = pygame.time.Clock()\n",
    "        self.players = {}\n",
    "        \n",
    "    def add_player(self, id):\n",
    "        self.players[id] = Player(id, 10, 10)\n",
    "        \n",
    "    def update_players(self):\n",
    "        for key in self.players:\n",
    "            self.players[key].move(1)\n",
    "            \n",
    "    def return_state(self):\n",
    "        state = {}\n",
    "        for key in self.players:\n",
    "            print(key)\n",
    "            state[\"players\"][key] = self.players[key].toJson()\n",
    "            print(state)\n",
    "        return json.dumps(state)\n",
    "    "
   ]
  },
  {
   "cell_type": "code",
   "execution_count": 36,
   "metadata": {},
   "outputs": [
    {
     "name": "stdout",
     "output_type": "stream",
     "text": [
      "{2: <__main__.Player object at 0x7f75d44b9550>, 4: <__main__.Player object at 0x7f7604690700>}\n",
      "2\n"
     ]
    },
    {
     "ename": "KeyError",
     "evalue": "'players'",
     "output_type": "error",
     "traceback": [
      "\u001b[0;31m---------------------------------------------------------------------------\u001b[0m",
      "\u001b[0;31mKeyError\u001b[0m                                  Traceback (most recent call last)",
      "\u001b[0;32m<ipython-input-36-11c315a2391b>\u001b[0m in \u001b[0;36m<module>\u001b[0;34m\u001b[0m\n\u001b[1;32m      3\u001b[0m \u001b[0mgame\u001b[0m\u001b[0;34m.\u001b[0m\u001b[0madd_player\u001b[0m\u001b[0;34m(\u001b[0m\u001b[0;36m4\u001b[0m\u001b[0;34m)\u001b[0m\u001b[0;34m\u001b[0m\u001b[0;34m\u001b[0m\u001b[0m\n\u001b[1;32m      4\u001b[0m \u001b[0mprint\u001b[0m\u001b[0;34m(\u001b[0m\u001b[0mgame\u001b[0m\u001b[0;34m.\u001b[0m\u001b[0mplayers\u001b[0m\u001b[0;34m)\u001b[0m\u001b[0;34m\u001b[0m\u001b[0;34m\u001b[0m\u001b[0m\n\u001b[0;32m----> 5\u001b[0;31m \u001b[0mgame\u001b[0m\u001b[0;34m.\u001b[0m\u001b[0mreturn_state\u001b[0m\u001b[0;34m(\u001b[0m\u001b[0;34m)\u001b[0m\u001b[0;34m\u001b[0m\u001b[0;34m\u001b[0m\u001b[0m\n\u001b[0m",
      "\u001b[0;32m<ipython-input-35-475eb27c2987>\u001b[0m in \u001b[0;36mreturn_state\u001b[0;34m(self)\u001b[0m\n\u001b[1;32m     16\u001b[0m         \u001b[0;32mfor\u001b[0m \u001b[0mkey\u001b[0m \u001b[0;32min\u001b[0m \u001b[0mself\u001b[0m\u001b[0;34m.\u001b[0m\u001b[0mplayers\u001b[0m\u001b[0;34m:\u001b[0m\u001b[0;34m\u001b[0m\u001b[0;34m\u001b[0m\u001b[0m\n\u001b[1;32m     17\u001b[0m             \u001b[0mprint\u001b[0m\u001b[0;34m(\u001b[0m\u001b[0mkey\u001b[0m\u001b[0;34m)\u001b[0m\u001b[0;34m\u001b[0m\u001b[0;34m\u001b[0m\u001b[0m\n\u001b[0;32m---> 18\u001b[0;31m             \u001b[0mstate\u001b[0m\u001b[0;34m[\u001b[0m\u001b[0;34m\"players\"\u001b[0m\u001b[0;34m]\u001b[0m\u001b[0;34m[\u001b[0m\u001b[0mkey\u001b[0m\u001b[0;34m]\u001b[0m \u001b[0;34m=\u001b[0m \u001b[0mself\u001b[0m\u001b[0;34m.\u001b[0m\u001b[0mplayers\u001b[0m\u001b[0;34m[\u001b[0m\u001b[0mkey\u001b[0m\u001b[0;34m]\u001b[0m\u001b[0;34m.\u001b[0m\u001b[0mtoJson\u001b[0m\u001b[0;34m(\u001b[0m\u001b[0;34m)\u001b[0m\u001b[0;34m\u001b[0m\u001b[0;34m\u001b[0m\u001b[0m\n\u001b[0m\u001b[1;32m     19\u001b[0m             \u001b[0mprint\u001b[0m\u001b[0;34m(\u001b[0m\u001b[0mstate\u001b[0m\u001b[0;34m)\u001b[0m\u001b[0;34m\u001b[0m\u001b[0;34m\u001b[0m\u001b[0m\n\u001b[1;32m     20\u001b[0m         \u001b[0;32mreturn\u001b[0m \u001b[0mjson\u001b[0m\u001b[0;34m.\u001b[0m\u001b[0mdumps\u001b[0m\u001b[0;34m(\u001b[0m\u001b[0mstate\u001b[0m\u001b[0;34m)\u001b[0m\u001b[0;34m\u001b[0m\u001b[0;34m\u001b[0m\u001b[0m\n",
      "\u001b[0;31mKeyError\u001b[0m: 'players'"
     ]
    }
   ],
   "source": [
    "game = Game()\n",
    "game.add_player(2)\n",
    "game.add_player(4)\n",
    "print(game.players)\n",
    "game.return_state()"
   ]
  },
  {
   "cell_type": "code",
   "execution_count": 29,
   "metadata": {},
   "outputs": [
    {
     "data": {
      "text/plain": [
       "b'{\"2\": {\"id\": 2, \"x\": 12, \"y\": 12}, \"4\": {\"id\": 4, \"x\": 12, \"y\": 12}}'"
      ]
     },
     "execution_count": 29,
     "metadata": {},
     "output_type": "execute_result"
    }
   ],
   "source": [
    "game.update_players()\n",
    "game.return_state().encode(\"utf-8\")"
   ]
  }
 ],
 "metadata": {
  "kernelspec": {
   "display_name": "Python 3",
   "language": "python",
   "name": "python3"
  },
  "language_info": {
   "codemirror_mode": {
    "name": "ipython",
    "version": 3
   },
   "file_extension": ".py",
   "mimetype": "text/x-python",
   "name": "python",
   "nbconvert_exporter": "python",
   "pygments_lexer": "ipython3",
   "version": "3.8.6"
  }
 },
 "nbformat": 4,
 "nbformat_minor": 4
}
